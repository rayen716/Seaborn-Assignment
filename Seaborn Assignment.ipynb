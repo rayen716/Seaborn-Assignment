{
 "cells": [
  {
   "cell_type": "code",
   "execution_count": null,
   "id": "f04ffd7e",
   "metadata": {},
   "outputs": [],
   "source": [
    "Que 1: Name any five plots that we can plot using the Seaborn library. Also, state the uses of each plot?\n",
    "Ans1. Seaborn is a Python data visualization library that provides a high-level interface for creating informative and attractive statistical graphics. Some of the plots that can be created using Seaborn are:\n",
    "\n",
    "Scatter plot - used to visualize the relationship between two continuous variables. It is useful for identifying patterns and clusters in the data.\n",
    "Line plot - used to display the trend in the data over time or some other continuous variable. It is useful for identifying patterns and trends in the data.\n",
    "Bar plot - used to display the distribution of a categorical variable. It is useful for comparing the frequencies or proportions of different categories.\n",
    "Heatmap - used to display the correlation between multiple variables. It is useful for identifying patterns and trends in the data.\n",
    "Box plot - used to display the distribution of a continuous variable. It is useful for identifying outliers and for comparing the distribution of different groups.\n"
   ]
  },
  {
   "cell_type": "code",
   "execution_count": null,
   "id": "2601f669",
   "metadata": {},
   "outputs": [],
   "source": [
    "Que 2: Load the \"fmri\" dataset using the load_dataset function of seaborn. Plot a line plot using x =\n",
    "\"timepoint\" and y = \"signal\" for different events and regions.\n",
    "Ans2. import seaborn as sns\n",
    "\n",
    "# Load the fmri dataset\n",
    "fmri_data = sns.load_dataset(\"fmri\")\n",
    "\n",
    "# Plot a line plot for different events and regions\n",
    "sns.lineplot(x=\"timepoint\", y=\"signal\", hue=\"event\", style=\"region\", data=fmri_data)\n"
   ]
  },
  {
   "cell_type": "code",
   "execution_count": null,
   "id": "9131e235",
   "metadata": {},
   "outputs": [],
   "source": [
    "Que 3: Load the \"titanic\" dataset using the load_dataset function of seaborn. Plot two box plots using x =\n",
    "'pclass', y = 'age' and y = 'fare'.\n",
    "Note: pclass, age, and fare are columns in the titanic dataset.\n",
    "Ans3. import seaborn as sns\n",
    "\n",
    "# Load the titanic dataset\n",
    "titanic_data = sns.load_dataset(\"titanic\")\n",
    "\n",
    "# Plot a box plot for age and pclass\n",
    "sns.boxplot(x=\"pclass\", y=\"age\", data=titanic_data)\n",
    "\n",
    "# Plot a box plot for fare and pclass\n",
    "sns.boxplot(x=\"pclass\", y=\"fare\", data=titanic_data)\n"
   ]
  },
  {
   "cell_type": "code",
   "execution_count": null,
   "id": "11f22612",
   "metadata": {},
   "outputs": [],
   "source": [
    "Que 4: Use the \"diamonds\" dataset from seaborn to plot a histogram for the 'price' column. Use the hue\n",
    "parameter for the 'cut' column of the diamonds dataset?\n",
    "Ans4. import seaborn as sns\n",
    "\n",
    "diamonds = sns.load_dataset('diamonds')\n",
    "\n",
    "sns.histplot(data=diamonds, x='price', hue='cut', multiple='stack', kde=True)\n"
   ]
  },
  {
   "cell_type": "code",
   "execution_count": null,
   "id": "1039596b",
   "metadata": {},
   "outputs": [],
   "source": [
    "Que 5: Use the \"iris\" dataset from seaborn to plot a pair plot. Use the hue parameter for the \"species\" column\n",
    "of the iris dataset?\n",
    "Ans5. import seaborn as sns\n",
    "\n",
    "# load iris dataset\n",
    "iris = sns.load_dataset('iris')\n",
    "\n",
    "# plot pairplot with hue for species\n",
    "sns.pairplot(data=iris, hue='species')\n"
   ]
  },
  {
   "cell_type": "code",
   "execution_count": null,
   "id": "9214a433",
   "metadata": {},
   "outputs": [],
   "source": [
    "Que 6: Use the \"flights\" dataset from seaborn to plot a heatmap?\n",
    "Ans6. import seaborn as sns\n",
    "flights_data = sns.load_dataset(\"flights\")\n",
    "flights_data = flights_data.pivot(\"month\", \"year\", \"passengers\")\n",
    "sns.heatmap(flights_data, cmap=\"YlGnBu\")\n"
   ]
  }
 ],
 "metadata": {
  "kernelspec": {
   "display_name": "Python 3 (ipykernel)",
   "language": "python",
   "name": "python3"
  },
  "language_info": {
   "codemirror_mode": {
    "name": "ipython",
    "version": 3
   },
   "file_extension": ".py",
   "mimetype": "text/x-python",
   "name": "python",
   "nbconvert_exporter": "python",
   "pygments_lexer": "ipython3",
   "version": "3.9.13"
  }
 },
 "nbformat": 4,
 "nbformat_minor": 5
}
